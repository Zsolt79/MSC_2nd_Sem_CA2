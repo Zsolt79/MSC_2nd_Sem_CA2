{
 "cells": [
  {
   "cell_type": "code",
   "execution_count": 1,
   "id": "ee0f742a",
   "metadata": {},
   "outputs": [
    {
     "name": "stderr",
     "output_type": "stream",
     "text": [
      "2023-05-18 14:34:05,147 WARN util.Utils: Your hostname, muhammad-Vm resolves to a loopback address: 127.0.1.1; using 10.0.2.15 instead (on interface enp0s3)\n",
      "2023-05-18 14:34:05,156 WARN util.Utils: Set SPARK_LOCAL_IP if you need to bind to another address\n",
      "2023-05-18 14:34:07,321 WARN util.NativeCodeLoader: Unable to load native-hadoop library for your platform... using builtin-java classes where applicable\n",
      "Setting default log level to \"WARN\".\n",
      "To adjust logging level use sc.setLogLevel(newLevel). For SparkR, use setLogLevel(newLevel).\n",
      "                                                                                \r"
     ]
    }
   ],
   "source": [
    "import pyspark\n",
    "from pyspark.sql import SparkSession\n",
    "\n",
    "spark = SparkSession.builder.appName(\"TwitterAnalysis\").getOrCreate()\n",
    "\n",
    "# Load JSON data into a DataFrame\n",
    "twitter_df = spark.read.json(\"file:///home/hduser/Desktop/Trump_Tweets.json\")"
   ]
  },
  {
   "cell_type": "code",
   "execution_count": 2,
   "id": "909bbe55",
   "metadata": {},
   "outputs": [
    {
     "name": "stderr",
     "output_type": "stream",
     "text": [
      "                                                                                \r"
     ]
    },
    {
     "name": "stdout",
     "output_type": "stream",
     "text": [
      "+-------------------+-------------------+----------+-----------+--------------------+\n",
      "|             Client|  Client Simplified|      Date|       Time|               Tweet|\n",
      "+-------------------+-------------------+----------+-----------+--------------------+\n",
      "| Twitter for iPhone| Twitter for iPhone|01/27/2017| 6:46:22 PM| I promise that o...|\n",
      "| Twitter for iPhone| Twitter for iPhone|01/27/2017| 5:00:47 PM| Congratulations ...|\n",
      "| Twitter for iPhone| Twitter for iPhone|01/27/2017| 3:20:15 PM| Statement on Int...|\n",
      "| Twitter for iPhone| Twitter for iPhone|01/27/2017|11:30:29 AM| .@VP Mike Pence ...|\n",
      "| Twitter for iPhone| Twitter for iPhone|01/27/2017|11:27:02 AM| The #MarchForLif...|\n",
      "|Twitter for Android|Twitter for Android|01/27/2017| 8:19:10 AM| Mexico has taken...|\n",
      "|Twitter for Android|Twitter for Android|01/27/2017| 8:12:52 AM| Look forward to ...|\n",
      "| Twitter for iPhone| Twitter for iPhone|01/26/2017| 6:53:37 PM| Miami-Dade Mayor...|\n",
      "| Twitter for iPhone| Twitter for iPhone|01/26/2017| 6:45:28 PM| Will be intervie...|\n",
      "| Twitter for iPhone| Twitter for iPhone|01/26/2017| 2:21:17 PM| Spoke at the Con...|\n",
      "|Twitter for Android|Twitter for Android|01/26/2017| 8:55:03 AM| of jobs and comp...|\n",
      "|Twitter for Android|Twitter for Android|01/26/2017| 8:51:46 AM| The U.S. has a 6...|\n",
      "|Twitter for Android|Twitter for Android|01/26/2017| 6:04:24 AM| Ungrateful TRAIT...|\n",
      "|Twitter for Android|Twitter for Android|01/25/2017| 9:48:25 PM| Interview with D...|\n",
      "|Twitter for Android|Twitter for Android|01/25/2017| 9:45:32 PM| \"@romoabcnews: ....|\n",
      "| Twitter for iPhone| Twitter for iPhone|01/25/2017| 9:14:56 PM| As your Presiden...|\n",
      "| Twitter Web Client| Twitter Web Client|01/25/2017| 7:03:33 PM| Beginning today,...|\n",
      "| Twitter for iPhone| Twitter for iPhone|01/25/2017| 5:05:59 PM| I will be interv...|\n",
      "|Twitter for Android|Twitter for Android|01/25/2017| 7:17:01 AM| I will be making...|\n",
      "|Twitter for Android|Twitter for Android|01/25/2017| 7:13:46 AM| even, those regi...|\n",
      "+-------------------+-------------------+----------+-----------+--------------------+\n",
      "only showing top 20 rows\n",
      "\n"
     ]
    }
   ],
   "source": [
    "twitter_df.show()"
   ]
  },
  {
   "cell_type": "code",
   "execution_count": null,
   "id": "2db58c64",
   "metadata": {},
   "outputs": [],
   "source": []
  }
 ],
 "metadata": {
  "kernelspec": {
   "display_name": "Python 3 (ipykernel)",
   "language": "python",
   "name": "python3"
  },
  "language_info": {
   "codemirror_mode": {
    "name": "ipython",
    "version": 3
   },
   "file_extension": ".py",
   "mimetype": "text/x-python",
   "name": "python",
   "nbconvert_exporter": "python",
   "pygments_lexer": "ipython3",
   "version": "3.10.6"
  }
 },
 "nbformat": 4,
 "nbformat_minor": 5
}
